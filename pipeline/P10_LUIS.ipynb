{
  "nbformat": 4,
  "nbformat_minor": 0,
  "metadata": {
    "colab": {
      "name": "P10_LUIS.ipynb",
      "provenance": [],
      "collapsed_sections": [
        "80E7XS3w50jS",
        "OWKHrctU5-T9"
      ],
      "toc_visible": true
    },
    "kernelspec": {
      "name": "python3",
      "display_name": "Python 3"
    },
    "language_info": {
      "name": "python"
    }
  },
  "cells": [
    {
      "cell_type": "code",
      "metadata": {
        "id": "d6sscY4h5H9v"
      },
      "source": [
        "pip install azure-cognitiveservices-language-luis"
      ],
      "execution_count": null,
      "outputs": []
    },
    {
      "cell_type": "code",
      "metadata": {
        "id": "huxafIvT5Orq"
      },
      "source": [
        "from azure.cognitiveservices.language.luis.authoring import LUISAuthoringClient\n",
        "from azure.cognitiveservices.language.luis.authoring.models import ApplicationCreateObject, ApplicationInfoResponse, EntityLabelObject, ExampleLabelObject\n",
        "from azure.cognitiveservices.language.luis.runtime import LUISRuntimeClient\n",
        "from msrest.authentication import CognitiveServicesCredentials\n",
        "from functools import reduce\n",
        "\n",
        "import json, time"
      ],
      "execution_count": null,
      "outputs": []
    },
    {
      "cell_type": "markdown",
      "metadata": {
        "id": "80E7XS3w50jS"
      },
      "source": [
        "# Charger le fichier json"
      ]
    },
    {
      "cell_type": "code",
      "metadata": {
        "id": "ihBQqRW353PV"
      },
      "source": [
        "import json\n",
        "with open('/content/drive/MyDrive/Colab Notebooks/P10/data/frame1.json', 'r') as f:\n",
        "    frames_dict = json.load(f)"
      ],
      "execution_count": null,
      "outputs": []
    },
    {
      "cell_type": "markdown",
      "metadata": {
        "id": "OWKHrctU5-T9"
      },
      "source": [
        "# Charger les phrases et les entitées"
      ]
    },
    {
      "cell_type": "code",
      "metadata": {
        "id": "glPsgr3V64Or"
      },
      "source": [
        "def listEntity(text, val, key ):\n",
        "    try :\n",
        "        dst_start = text.index(val)\n",
        "        dst_end = dst_start + len(val) -1\n",
        "        entity_label = EntityLabelObject(entity_name=key, start_char_index=dst_start, end_char_index=dst_end,)\n",
        "        \n",
        "        print(text, key, val, dst_start, dst_end)\n",
        "        return entity_labels.append(entity_label)\n",
        "    except ValueError :     \n",
        "            print('val not in text.')"
      ],
      "execution_count": null,
      "outputs": []
    },
    {
      "cell_type": "code",
      "metadata": {
        "colab": {
          "base_uri": "https://localhost:8080/"
        },
        "id": "NbafECnzgPL-",
        "outputId": "e18eb588-7fe9-44fe-d386-6c4c6b53062b"
      },
      "source": [
        "df1 = pd.DataFrame(columns =['text','or_city','dst_city', 'budget', 'str_date', 'end_date'])\n",
        "df1['text']='abd'\n",
        "df1.head()"
      ],
      "execution_count": null,
      "outputs": [
        {
          "output_type": "execute_result",
          "data": {
            "text/html": [
              "<div>\n",
              "<style scoped>\n",
              "    .dataframe tbody tr th:only-of-type {\n",
              "        vertical-align: middle;\n",
              "    }\n",
              "\n",
              "    .dataframe tbody tr th {\n",
              "        vertical-align: top;\n",
              "    }\n",
              "\n",
              "    .dataframe thead th {\n",
              "        text-align: right;\n",
              "    }\n",
              "</style>\n",
              "<table border=\"1\" class=\"dataframe\">\n",
              "  <thead>\n",
              "    <tr style=\"text-align: right;\">\n",
              "      <th></th>\n",
              "      <th>text</th>\n",
              "      <th>or_city</th>\n",
              "      <th>dst_city</th>\n",
              "      <th>budget</th>\n",
              "      <th>str_date</th>\n",
              "      <th>end_date</th>\n",
              "    </tr>\n",
              "  </thead>\n",
              "  <tbody>\n",
              "  </tbody>\n",
              "</table>\n",
              "</div>"
            ],
            "text/plain": [
              "Empty DataFrame\n",
              "Columns: [text, or_city, dst_city, budget, str_date, end_date]\n",
              "Index: []"
            ]
          },
          "metadata": {
            "tags": []
          },
          "execution_count": 15
        }
      ]
    },
    {
      "cell_type": "code",
      "metadata": {
        "colab": {
          "base_uri": "https://localhost:8080/"
        },
        "id": "hZgg3BvqQj8K",
        "outputId": "a3060817-1822-44cb-dbac-013dee17b6f9"
      },
      "source": [
        "len(frames_dict['turns'][str(0)])"
      ],
      "execution_count": null,
      "outputs": [
        {
          "output_type": "execute_result",
          "data": {
            "text/plain": [
              "7"
            ]
          },
          "metadata": {
            "tags": []
          },
          "execution_count": 37
        }
      ]
    },
    {
      "cell_type": "code",
      "metadata": {
        "id": "IpRAA48U5881"
      },
      "source": [
        "import sys \n",
        "import pandas as pd\n",
        "import numpy as np\n",
        "\n",
        "df = pd.DataFrame(columns =['text','or_city','dst_city', 'budget', 'str_date', 'end_date'])\n",
        "print('*'*8)\n",
        "try :\n",
        "    lstEntities = ['budget', 'dst_city', 'or_city', 'str_date', 'end_date']\n",
        "    print('*'*8)\n",
        "    for i in range (0,1000):\n",
        "        print('*'*8)\n",
        "        len_i = len(frames_dict['turns'][str(i)])\n",
        "        print('*'*8)\n",
        "        for t in range(0,len_i):\n",
        "            # Text\n",
        "            text = frames_dict['turns'][str(i)][t]['text']\n",
        "            df1 = pd.DataFrame(data=[{'text' : text, 'or_city' : pd.np.nan,'dst_city' : pd.np.nan , 'budget' : pd.np.nan, 'str_date' : pd.np.nan, 'end_date' : pd.np.nan} ]\n",
        "                               ,columns =['text','or_city','dst_city', 'budget', 'str_date', 'end_date'])\n",
        "            print('*',text)\n",
        "            entity_labels = []\n",
        "            copie = False\n",
        "            # Entity\n",
        "            len_acts = len(frames_dict['turns'][str(i)][t]['labels']['acts'])\n",
        "            for a in range(0, len_acts):\n",
        "                #key\n",
        "                forError =  frames_dict['turns'][str(i)][t]['labels']['acts'][a]\n",
        "                len_args = len(frames_dict['turns'][str(i)][t]['labels']['acts'][a]['args'])\n",
        "                for arg in range(0,len_args):\n",
        "                        #print('1')\n",
        "                        key = frames_dict['turns'][str(i)][t]['labels']['acts'][a]['args'][arg]['key']\n",
        "                        if key in lstEntities :\n",
        "                            if 'val' in frames_dict['turns'][str(i)][t]['labels']['acts'][a]['args'][arg] :\n",
        "                                if frames_dict['turns'][str(i)][t]['labels']['acts'][a]['args'][arg]['val'] != None:\n",
        "                                    val = frames_dict['turns'][str(i)][t]['labels']['acts'][a]['args'][arg]['val']\n",
        "                                    print('+' + key , ':', val)\n",
        "                                    ##\n",
        "                                    print('*'*5)\n",
        "                                    df1[key]=val\n",
        "                                    copie =True              \n",
        "\n",
        "                        if key =='ref':\n",
        "                            len_anno = len(frames_dict['turns'][str(i)][t]['labels']['acts'][a]['args'][arg]['val'])\n",
        "                            for anno in range(0,len_anno):\n",
        "                                finalkey = frames_dict['turns'][str(i)][t]['labels']['acts'][a]['args'][arg]['val'][anno]['annotations']\n",
        "                                len_cu = len(finalkey)\n",
        "                                for an in range(0,len_cu):\n",
        "                                    #print('current : ',finalkey )\n",
        "                                    b = finalkey[an]\n",
        "                                    if 'val' in b :\n",
        "                                        if finalkey[an]['key'] in lstEntities :\n",
        "                                            if finalkey[an]['val'] != None:\n",
        "                                                key = finalkey[an]['key']\n",
        "                                                val = finalkey[an]['val']\n",
        "                                                #print('current : ',finalkey[an] )\n",
        "                                                print( '-',key, ':', val)\n",
        "                                                print('*'*10)\n",
        "                                                df1[key]=val\n",
        "                                                copie =True\n",
        "                print('** copie', copie)\n",
        "                if copie: \n",
        "                    print('entity_labels add ')\n",
        "                    df = pd.concat([df,df1])\n",
        "                     \n",
        "\n",
        "except Exception:\n",
        "    e = sys.exc_info()[1]\n",
        "    print(sys.exc_info())\n",
        "    print('ERROR' , e.args[0])\n",
        "    #print('ERROR : ',forError)\n",
        "    #print('Error :',i,t,a,arg,anno,an)"
      ],
      "execution_count": null,
      "outputs": []
    },
    {
      "cell_type": "code",
      "metadata": {
        "id": "ts2G7zz2lnAj",
        "colab": {
          "base_uri": "https://localhost:8080/",
          "height": 205
        },
        "outputId": "9ed8caf9-b5bc-430e-fd93-bcadabcb74e4"
      },
      "source": [
        "df.head()"
      ],
      "execution_count": null,
      "outputs": [
        {
          "output_type": "execute_result",
          "data": {
            "text/html": [
              "<div>\n",
              "<style scoped>\n",
              "    .dataframe tbody tr th:only-of-type {\n",
              "        vertical-align: middle;\n",
              "    }\n",
              "\n",
              "    .dataframe tbody tr th {\n",
              "        vertical-align: top;\n",
              "    }\n",
              "\n",
              "    .dataframe thead th {\n",
              "        text-align: right;\n",
              "    }\n",
              "</style>\n",
              "<table border=\"1\" class=\"dataframe\">\n",
              "  <thead>\n",
              "    <tr style=\"text-align: right;\">\n",
              "      <th></th>\n",
              "      <th>text</th>\n",
              "      <th>or_city</th>\n",
              "      <th>dst_city</th>\n",
              "      <th>budget</th>\n",
              "      <th>str_date</th>\n",
              "      <th>end_date</th>\n",
              "    </tr>\n",
              "  </thead>\n",
              "  <tbody>\n",
              "    <tr>\n",
              "      <th>0</th>\n",
              "      <td>I'd like to book a trip to Atlantis from Capri...</td>\n",
              "      <td>Caprica</td>\n",
              "      <td>Atlantis</td>\n",
              "      <td>1700</td>\n",
              "      <td>Saturday, August 13, 2016</td>\n",
              "      <td>NaN</td>\n",
              "    </tr>\n",
              "    <tr>\n",
              "      <th>0</th>\n",
              "      <td>Yes, how about going to Neverland from Caprica...</td>\n",
              "      <td>Caprica</td>\n",
              "      <td>Neverland</td>\n",
              "      <td>1900</td>\n",
              "      <td>August 13, 2016</td>\n",
              "      <td>NaN</td>\n",
              "    </tr>\n",
              "    <tr>\n",
              "      <th>0</th>\n",
              "      <td>I have no flexibility for dates... but I can l...</td>\n",
              "      <td>Atlantis</td>\n",
              "      <td>NaN</td>\n",
              "      <td>NaN</td>\n",
              "      <td>NaN</td>\n",
              "      <td>NaN</td>\n",
              "    </tr>\n",
              "    <tr>\n",
              "      <th>0</th>\n",
              "      <td>I have no flexibility for dates... but I can l...</td>\n",
              "      <td>Caprica</td>\n",
              "      <td>NaN</td>\n",
              "      <td>NaN</td>\n",
              "      <td>NaN</td>\n",
              "      <td>NaN</td>\n",
              "    </tr>\n",
              "    <tr>\n",
              "      <th>0</th>\n",
              "      <td>Hello, I am looking to book a vacation from Go...</td>\n",
              "      <td>Gotham City</td>\n",
              "      <td>Mos Eisley</td>\n",
              "      <td>2100</td>\n",
              "      <td>NaN</td>\n",
              "      <td>NaN</td>\n",
              "    </tr>\n",
              "  </tbody>\n",
              "</table>\n",
              "</div>"
            ],
            "text/plain": [
              "                                                text  ... end_date\n",
              "0  I'd like to book a trip to Atlantis from Capri...  ...      NaN\n",
              "0  Yes, how about going to Neverland from Caprica...  ...      NaN\n",
              "0  I have no flexibility for dates... but I can l...  ...      NaN\n",
              "0  I have no flexibility for dates... but I can l...  ...      NaN\n",
              "0  Hello, I am looking to book a vacation from Go...  ...      NaN\n",
              "\n",
              "[5 rows x 6 columns]"
            ]
          },
          "metadata": {
            "tags": []
          },
          "execution_count": 5
        }
      ]
    },
    {
      "cell_type": "code",
      "metadata": {
        "id": "jLQrU3SkoZCa",
        "colab": {
          "base_uri": "https://localhost:8080/",
          "height": 175
        },
        "outputId": "b009d7b1-9ebd-4f0e-8f9b-db6452de1183"
      },
      "source": [
        "df.describe()"
      ],
      "execution_count": null,
      "outputs": [
        {
          "output_type": "execute_result",
          "data": {
            "text/html": [
              "<div>\n",
              "<style scoped>\n",
              "    .dataframe tbody tr th:only-of-type {\n",
              "        vertical-align: middle;\n",
              "    }\n",
              "\n",
              "    .dataframe tbody tr th {\n",
              "        vertical-align: top;\n",
              "    }\n",
              "\n",
              "    .dataframe thead th {\n",
              "        text-align: right;\n",
              "    }\n",
              "</style>\n",
              "<table border=\"1\" class=\"dataframe\">\n",
              "  <thead>\n",
              "    <tr style=\"text-align: right;\">\n",
              "      <th></th>\n",
              "      <th>text</th>\n",
              "      <th>or_city</th>\n",
              "      <th>dst_city</th>\n",
              "      <th>budget</th>\n",
              "      <th>str_date</th>\n",
              "      <th>end_date</th>\n",
              "    </tr>\n",
              "  </thead>\n",
              "  <tbody>\n",
              "    <tr>\n",
              "      <th>count</th>\n",
              "      <td>8925</td>\n",
              "      <td>2599</td>\n",
              "      <td>5387</td>\n",
              "      <td>966</td>\n",
              "      <td>3009</td>\n",
              "      <td>2190</td>\n",
              "    </tr>\n",
              "    <tr>\n",
              "      <th>unique</th>\n",
              "      <td>6511</td>\n",
              "      <td>334</td>\n",
              "      <td>408</td>\n",
              "      <td>345</td>\n",
              "      <td>453</td>\n",
              "      <td>381</td>\n",
              "    </tr>\n",
              "    <tr>\n",
              "      <th>top</th>\n",
              "      <td>no</td>\n",
              "      <td>Punta Cana</td>\n",
              "      <td>Punta Cana</td>\n",
              "      <td>-1</td>\n",
              "      <td>August 27th</td>\n",
              "      <td>-1</td>\n",
              "    </tr>\n",
              "    <tr>\n",
              "      <th>freq</th>\n",
              "      <td>10</td>\n",
              "      <td>48</td>\n",
              "      <td>151</td>\n",
              "      <td>177</td>\n",
              "      <td>125</td>\n",
              "      <td>78</td>\n",
              "    </tr>\n",
              "  </tbody>\n",
              "</table>\n",
              "</div>"
            ],
            "text/plain": [
              "        text     or_city    dst_city budget     str_date end_date\n",
              "count   8925        2599        5387    966         3009     2190\n",
              "unique  6511         334         408    345          453      381\n",
              "top       no  Punta Cana  Punta Cana     -1  August 27th       -1\n",
              "freq      10          48         151    177          125       78"
            ]
          },
          "metadata": {
            "tags": []
          },
          "execution_count": 6
        }
      ]
    },
    {
      "cell_type": "markdown",
      "metadata": {
        "id": "gwHmW_2jro6V"
      },
      "source": [
        "# Drop duplicate"
      ]
    },
    {
      "cell_type": "code",
      "metadata": {
        "colab": {
          "base_uri": "https://localhost:8080/"
        },
        "id": "mGaucPK1rscr",
        "outputId": "4067a9d2-0b65-4afc-d708-89ef107b88b4"
      },
      "source": [
        "# length after adding row\n",
        "length2=  len(df)\n",
        "  \n",
        "# sorting by first name\n",
        "df.sort_values(\"text\", inplace=True)\n",
        "  \n",
        "# dropping duplicate values\n",
        "df.drop_duplicates(keep=False,inplace=True)\n",
        "  \n",
        "# length after removing duplicates\n",
        "length3=len(df)\n",
        "  \n",
        "# printing all data frame lengths \n",
        "print( length2, length3)"
      ],
      "execution_count": null,
      "outputs": [
        {
          "output_type": "stream",
          "text": [
            "8925 5947\n"
          ],
          "name": "stdout"
        }
      ]
    },
    {
      "cell_type": "markdown",
      "metadata": {
        "id": "yiSlr4d1r_0d"
      },
      "source": [
        "# Value -1"
      ]
    },
    {
      "cell_type": "code",
      "metadata": {
        "colab": {
          "base_uri": "https://localhost:8080/"
        },
        "id": "qouUGH4oonYC",
        "outputId": "e412ecde-d770-4e8a-b5b3-252283d96de4"
      },
      "source": [
        "df['budget'][df['budget']==-1]= pd.np.nan\n",
        "df['str_date'][df['str_date']==-1]= pd.np.nan\n",
        "df['end_date'][df['end_date']==-1]= pd.np.nan"
      ],
      "execution_count": null,
      "outputs": [
        {
          "output_type": "stream",
          "text": [
            "/usr/local/lib/python3.7/dist-packages/ipykernel_launcher.py:1: FutureWarning: The pandas.np module is deprecated and will be removed from pandas in a future version. Import numpy directly instead\n",
            "  \"\"\"Entry point for launching an IPython kernel.\n",
            "/usr/local/lib/python3.7/dist-packages/ipykernel_launcher.py:2: FutureWarning: The pandas.np module is deprecated and will be removed from pandas in a future version. Import numpy directly instead\n",
            "  \n",
            "/usr/local/lib/python3.7/dist-packages/ipykernel_launcher.py:3: FutureWarning: The pandas.np module is deprecated and will be removed from pandas in a future version. Import numpy directly instead\n",
            "  This is separate from the ipykernel package so we can avoid doing imports until\n"
          ],
          "name": "stderr"
        }
      ]
    },
    {
      "cell_type": "code",
      "metadata": {
        "id": "ledr9b-4kbyX"
      },
      "source": [
        "df.to_csv('/content/drive/MyDrive/Colab Notebooks/P10/data/df.csv',index=None)"
      ],
      "execution_count": null,
      "outputs": []
    },
    {
      "cell_type": "code",
      "metadata": {
        "id": "gyBWNWk75s4L"
      },
      "source": [
        "import pandas as pd\n",
        "df = pd.read_csv('/content/drive/MyDrive/Colab Notebooks/P10/data/df.csv')"
      ],
      "execution_count": null,
      "outputs": []
    },
    {
      "cell_type": "code",
      "metadata": {
        "colab": {
          "base_uri": "https://localhost:8080/",
          "height": 205
        },
        "id": "nQbirBdKEQnz",
        "outputId": "229c8c31-9843-47e8-f67a-ca974b54fada"
      },
      "source": [
        "df.head()"
      ],
      "execution_count": null,
      "outputs": [
        {
          "output_type": "execute_result",
          "data": {
            "text/html": [
              "<div>\n",
              "<style scoped>\n",
              "    .dataframe tbody tr th:only-of-type {\n",
              "        vertical-align: middle;\n",
              "    }\n",
              "\n",
              "    .dataframe tbody tr th {\n",
              "        vertical-align: top;\n",
              "    }\n",
              "\n",
              "    .dataframe thead th {\n",
              "        text-align: right;\n",
              "    }\n",
              "</style>\n",
              "<table border=\"1\" class=\"dataframe\">\n",
              "  <thead>\n",
              "    <tr style=\"text-align: right;\">\n",
              "      <th></th>\n",
              "      <th>text</th>\n",
              "      <th>or_city</th>\n",
              "      <th>dst_city</th>\n",
              "      <th>budget</th>\n",
              "      <th>str_date</th>\n",
              "      <th>end_date</th>\n",
              "    </tr>\n",
              "  </thead>\n",
              "  <tbody>\n",
              "    <tr>\n",
              "      <th>0</th>\n",
              "      <td>August 27 &amp; sept 6</td>\n",
              "      <td>NaN</td>\n",
              "      <td>NaN</td>\n",
              "      <td>NaN</td>\n",
              "      <td>August 27</td>\n",
              "      <td>sept 6</td>\n",
              "    </tr>\n",
              "    <tr>\n",
              "      <th>0</th>\n",
              "      <td>Hotel Regal Time has packages from Sept 17-20...</td>\n",
              "      <td>NaN</td>\n",
              "      <td>NaN</td>\n",
              "      <td>NaN</td>\n",
              "      <td>Sept 17</td>\n",
              "      <td>20</td>\n",
              "    </tr>\n",
              "    <tr>\n",
              "      <th>0</th>\n",
              "      <td>How about Denver? I have a 12 day package tha...</td>\n",
              "      <td>NaN</td>\n",
              "      <td>Denver</td>\n",
              "      <td>NaN</td>\n",
              "      <td>Sept 9th</td>\n",
              "      <td>20th</td>\n",
              "    </tr>\n",
              "    <tr>\n",
              "      <th>0</th>\n",
              "      <td>I can tell you about an exciting vacation pac...</td>\n",
              "      <td>Busan</td>\n",
              "      <td>Hiroshima</td>\n",
              "      <td>NaN</td>\n",
              "      <td>NaN</td>\n",
              "      <td>NaN</td>\n",
              "    </tr>\n",
              "    <tr>\n",
              "      <th>0</th>\n",
              "      <td>I found one result for Fukuoka. This is a 3 s...</td>\n",
              "      <td>NaN</td>\n",
              "      <td>Fukuoka</td>\n",
              "      <td>NaN</td>\n",
              "      <td>August 31st</td>\n",
              "      <td>September 7th</td>\n",
              "    </tr>\n",
              "  </tbody>\n",
              "</table>\n",
              "</div>"
            ],
            "text/plain": [
              "                                                text  ...       end_date\n",
              "0                                 August 27 & sept 6  ...         sept 6\n",
              "0   Hotel Regal Time has packages from Sept 17-20...  ...             20\n",
              "0   How about Denver? I have a 12 day package tha...  ...           20th\n",
              "0   I can tell you about an exciting vacation pac...  ...            NaN\n",
              "0   I found one result for Fukuoka. This is a 3 s...  ...  September 7th\n",
              "\n",
              "[5 rows x 6 columns]"
            ]
          },
          "metadata": {
            "tags": []
          },
          "execution_count": 11
        }
      ]
    },
    {
      "cell_type": "markdown",
      "metadata": {
        "id": "L3oQ-B3957--"
      },
      "source": [
        "## Split train test"
      ]
    },
    {
      "cell_type": "code",
      "metadata": {
        "colab": {
          "base_uri": "https://localhost:8080/"
        },
        "id": "OyNKi3gAtTK_",
        "outputId": "076a190f-7016-40dd-ff14-262418b3b4b2"
      },
      "source": [
        "len(df) #70%   4147   30% 1800"
      ],
      "execution_count": null,
      "outputs": [
        {
          "output_type": "execute_result",
          "data": {
            "text/plain": [
              "5947"
            ]
          },
          "metadata": {
            "tags": []
          },
          "execution_count": 54
        }
      ]
    },
    {
      "cell_type": "code",
      "metadata": {
        "colab": {
          "base_uri": "https://localhost:8080/"
        },
        "id": "xV3PyWeRyiHr",
        "outputId": "4df370e1-7c77-427e-e0e2-caf73a07de86"
      },
      "source": [
        "df_test = df[4147:5947]\n",
        "len(df_test)"
      ],
      "execution_count": null,
      "outputs": [
        {
          "output_type": "execute_result",
          "data": {
            "text/plain": [
              "1800"
            ]
          },
          "metadata": {
            "tags": []
          },
          "execution_count": 55
        }
      ]
    },
    {
      "cell_type": "code",
      "metadata": {
        "colab": {
          "base_uri": "https://localhost:8080/"
        },
        "id": "U7Et7QRsyuEL",
        "outputId": "9fb6405f-3623-4edd-8f69-000ef6ef511b"
      },
      "source": [
        "df = df[0:4147]\n",
        "len(df)"
      ],
      "execution_count": null,
      "outputs": [
        {
          "output_type": "execute_result",
          "data": {
            "text/plain": [
              "4147"
            ]
          },
          "metadata": {
            "tags": []
          },
          "execution_count": 56
        }
      ]
    },
    {
      "cell_type": "code",
      "metadata": {
        "id": "viiKscYIzH-I"
      },
      "source": [
        "df.to_csv('/content/drive/MyDrive/Colab Notebooks/P10/data/data.csv',index=None)\n",
        "df_test.to_csv('/content/drive/MyDrive/Colab Notebooks/P10/data/df_test.csv',index=None)"
      ],
      "execution_count": null,
      "outputs": []
    },
    {
      "cell_type": "markdown",
      "metadata": {
        "id": "wVIWflOJzVur"
      },
      "source": [
        "# Load data Train et Test"
      ]
    },
    {
      "cell_type": "code",
      "metadata": {
        "id": "uPmVvRHhzmtn"
      },
      "source": [
        "import pandas as pd\n",
        "df = pd.read_csv('/content/drive/MyDrive/Colab Notebooks/P10/data/data.csv')\n",
        "df_test = pd.read_csv('/content/drive/MyDrive/Colab Notebooks/P10/data/df_test.csv')"
      ],
      "execution_count": null,
      "outputs": []
    },
    {
      "cell_type": "markdown",
      "metadata": {
        "id": "-mMa2iT20JE9"
      },
      "source": [
        "# Build Test json : \n",
        "\n",
        "\n",
        "*   Can not excede 1000 in Luis\n",
        "*   The query length cannot exceed the limit 500.\n",
        "\n"
      ]
    },
    {
      "cell_type": "code",
      "metadata": {
        "colab": {
          "base_uri": "https://localhost:8080/"
        },
        "id": "8aOItGqP9H9-",
        "outputId": "8e07ab6d-8b17-4e6d-bdf0-a1c4cfd549b9"
      },
      "source": [
        "df_test = df_test[0:499]\n",
        "len(df_test)"
      ],
      "execution_count": null,
      "outputs": [
        {
          "output_type": "execute_result",
          "data": {
            "text/plain": [
              "499"
            ]
          },
          "metadata": {
            "tags": []
          },
          "execution_count": 98
        }
      ]
    },
    {
      "cell_type": "code",
      "metadata": {
        "id": "exgKRwEstODr"
      },
      "source": [
        "def create_utterance(intent, utterance, *labels):\n",
        "    \"\"\"Add an example LUIS utterance from utterance text and a list of\n",
        "       labels.  Each label is a 2-tuple containing a label name and the\n",
        "       text within the utterance that represents that label.\n",
        "\n",
        "       Utterances apply to a specific intent, which must be specified.\"\"\"\n",
        "\n",
        "    text = utterance.lower()\n",
        "\n",
        "    def label(name, value):\n",
        "        value = value.lower()\n",
        "        start = text.index(value)\n",
        "        return dict(entity_name=name, start_char_index=start,\n",
        "                    end_char_index=start + len(value))\n",
        "\n",
        "    return dict(text=text, intent_name=intent,\n",
        "                entity_labels=[label(n, v) for (n, v) in labels])"
      ],
      "execution_count": null,
      "outputs": []
    },
    {
      "cell_type": "code",
      "metadata": {
        "id": "TKfYJnlMpyiR"
      },
      "source": [
        "import numpy as np\n",
        "import pandas as pd\n",
        "\n",
        "utterances = []\n",
        "lnan = ['nan', 'NaN', '',np.nan, pd.np.nan, '-1']\n",
        "# or_city\tdst_city\tbudget\tstr_date\tn_adults\n",
        "n=0\n",
        "for index, row in df_test.iterrows():\n",
        "    n+=1\n",
        "    if n>=0:\n",
        "        print(n, row.text, n)\n",
        "        if row.or_city not in lnan:\n",
        "            a=create_utterance('book',row.text,('or_city',row.or_city))\n",
        "        if row.dst_city not in lnan :\n",
        "            #print(row.dst_city)\n",
        "            a=create_utterance('book',row.text,('dst_city',row.dst_city))\n",
        "        if row.budget not in lnan :\n",
        "            a=create_utterance('book',row.text,('budget',row.budget))\n",
        "        if row.str_date not in lnan:\n",
        "            #print('str_data', row.str_date)\n",
        "            a=create_utterance('book',row.text,('str_date',row.str_date))\n",
        "        if row.end_date not in lnan :\n",
        "            print('end_date',row.end_date)\n",
        "            try :\n",
        "                a=create_utterance('book',row.text,('end_date',row.end_date))\n",
        "            except ValueError:\n",
        "                print('Error end_date',row.end_date)\n",
        "        utterances.append(a)"
      ],
      "execution_count": null,
      "outputs": []
    },
    {
      "cell_type": "code",
      "metadata": {
        "id": "0_7YFFnLniIE"
      },
      "source": [
        "y = json.dumps(utterances)\n",
        "\n",
        "y = y.replace('entity_labels','entities')\n",
        "y = y.replace('intent_name','intent')\n",
        "y = y.replace('end_char_index','endPos')\n",
        "y = y.replace('start_char_index','startPos')\n",
        "y = y.replace('entity_name','entity')\n",
        "my_json = json.loads(y)"
      ],
      "execution_count": null,
      "outputs": []
    },
    {
      "cell_type": "code",
      "metadata": {
        "id": "v_1XqRSVvk4X"
      },
      "source": [
        "import json\n",
        "with open('/content/drive/MyDrive/Colab Notebooks/P10/data/my_test.json', 'w+') as f:\n",
        "        json.dump(my_json, f)"
      ],
      "execution_count": null,
      "outputs": []
    },
    {
      "cell_type": "markdown",
      "metadata": {
        "id": "JfFLtRbVyLSK"
      },
      "source": [
        "# Test LUIS  100, 500, 1000, 2500, 5000 utterances\n"
      ]
    },
    {
      "cell_type": "markdown",
      "metadata": {
        "id": "fnplJ_1nwZx6"
      },
      "source": [
        "## **The app**"
      ]
    },
    {
      "cell_type": "code",
      "metadata": {
        "id": "FcdoVm1l1zcW"
      },
      "source": [
        "authoringKey = '27c8037609e64e908a3cc829433e4437' \n",
        "authoringEndpoint = 'https://luisflyme02-authoring.cognitiveservices.azure.com/'\n",
        "\n",
        "predictionKey = '89e83467803742a1a99a48603604b4c5'\n",
        "predictionEndpoint = 'https://luisflyme02.cognitiveservices.azure.com/'\n",
        "\n",
        "appName = \"flyme02app\"\n",
        "app_version = \"0.1\"\n",
        "intentName = \"book\"\n",
        "app_id ='bf408bed-468d-4d08-aafd-77e84acd9643'\n",
        "\n",
        "client = LUISAuthoringClient(authoringEndpoint, CognitiveServicesCredentials(authoringKey))"
      ],
      "execution_count": null,
      "outputs": []
    },
    {
      "cell_type": "markdown",
      "metadata": {
        "id": "7O7svDT15o0o"
      },
      "source": [
        "## Créer une intention pour l’application"
      ]
    },
    {
      "cell_type": "code",
      "metadata": {
        "id": "LXtNn_eX5qeB",
        "colab": {
          "base_uri": "https://localhost:8080/",
          "height": 35
        },
        "outputId": "6e280569-0d9d-41de-d8bc-c2b3c359ac06"
      },
      "source": [
        "client.model.add_intent(app_id, versionId, intentName)"
      ],
      "execution_count": null,
      "outputs": [
        {
          "output_type": "execute_result",
          "data": {
            "application/vnd.google.colaboratory.intrinsic+json": {
              "type": "string"
            },
            "text/plain": [
              "'4880e9bd-945f-4d49-a6e1-f9fcfd435c1c'"
            ]
          },
          "metadata": {
            "tags": []
          },
          "execution_count": 110
        }
      ]
    },
    {
      "cell_type": "markdown",
      "metadata": {
        "id": "sLswVjwv5t5_"
      },
      "source": [
        "## Créer des entités pour l’application"
      ]
    },
    {
      "cell_type": "code",
      "metadata": {
        "id": "QJR8-Fit5xK8"
      },
      "source": [
        "lstEntities = ['budget', 'dst_city', 'or_city', 'str_date', 'end_date']\n",
        "for entity in lstEntities:\n",
        "    a = client.model.add_entity(app_id, app_version, name=entity)\n",
        "    print(\"EntityId {} added.\".format(a))"
      ],
      "execution_count": null,
      "outputs": []
    },
    {
      "cell_type": "markdown",
      "metadata": {
        "id": "nORW3dp8S_p5"
      },
      "source": [
        "## Créer les utterances"
      ]
    },
    {
      "cell_type": "code",
      "metadata": {
        "colab": {
          "base_uri": "https://localhost:8080/"
        },
        "id": "B4dIzBLL0NzP",
        "outputId": "dc8a3fd6-d0c2-44f3-9686-23781265bfff"
      },
      "source": [
        "import numpy as np\n",
        "import pandas as pd\n",
        "\n",
        "utterances = []\n",
        "lnan = ['nan', 'NaN', '',np.nan, pd.np.nan, '-1']\n",
        "\n",
        "n=0\n",
        "for index, row in df.iterrows():\n",
        "    n+=1\n",
        "    if n>=0:\n",
        "        #print(n, row.text, n)\n",
        "        if row.or_city not in lnan:\n",
        "            a=create_utterance('book',row.text,('or_city',row.or_city))\n",
        "        if row.dst_city not in lnan :\n",
        "            #print(row.dst_city)\n",
        "            a=create_utterance('book',row.text,('dst_city',row.dst_city))\n",
        "        if row.budget not in lnan :\n",
        "            a=create_utterance('book',row.text,('budget',row.budget))\n",
        "        if row.str_date not in lnan:\n",
        "            #print('str_data', row.str_date)\n",
        "            a=create_utterance('book',row.text,('str_date',row.str_date))\n",
        "        if row.end_date not in lnan :\n",
        "            try :\n",
        "                a=create_utterance('book',row.text,('end_date',row.end_date))\n",
        "            except ValueError:\n",
        "                print('Error end_date',row.end_date)\n",
        "        utterances.append(a)\n",
        "    if n%100==0:\n",
        "        client.examples.batch(app_id, app_version, utterances)\n",
        "        add_utterances(app_id, app_version)\n",
        "        utterances = []\n",
        "    if n>= 5000:  #500, 1000, 2500, 5000 \n",
        "        break"
      ],
      "execution_count": null,
      "outputs": [
        {
          "output_type": "stream",
          "text": [
            "/usr/local/lib/python3.7/dist-packages/ipykernel_launcher.py:5: FutureWarning: The pandas.np module is deprecated and will be removed from pandas in a future version. Import numpy directly instead\n",
            "  \"\"\"\n"
          ],
          "name": "stderr"
        },
        {
          "output_type": "stream",
          "text": [
            "Error end_date Wednesday Sept 14\n"
          ],
          "name": "stdout"
        }
      ]
    },
    {
      "cell_type": "markdown",
      "metadata": {
        "id": "ph7oU-W93QAQ"
      },
      "source": [
        "# Train"
      ]
    },
    {
      "cell_type": "code",
      "metadata": {
        "id": "vIvOREIGONDI"
      },
      "source": [
        "response = client.train.train_version(app_id, app_version)\n",
        "waiting = True\n",
        "while waiting:\n",
        "\n",
        "    info = client.train.get_status(app_id, app_version)\n",
        "\twaiting = any(map(lambda x: 'Queued' == x.details.status or 'InProgress' == x.details.status, info))\n",
        "\tif waiting:\n",
        "\t\tprint (\"Waiting 30 seconds for training to complete...\")\n",
        "\t\ttime.sleep(30)"
      ],
      "execution_count": null,
      "outputs": []
    },
    {
      "cell_type": "markdown",
      "metadata": {
        "id": "mWBJz69G3flV"
      },
      "source": [
        "# Publish"
      ]
    },
    {
      "cell_type": "code",
      "metadata": {
        "id": "F2lXBZ3J3h4X"
      },
      "source": [
        "responseEndpointInfo = client.apps.publish(app_id, app_version, is_staging=True)"
      ],
      "execution_count": null,
      "outputs": []
    }
  ]
}